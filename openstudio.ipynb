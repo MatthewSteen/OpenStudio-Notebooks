{
 "cells": [
  {
   "cell_type": "markdown",
   "metadata": {},
   "source": [
    "# Jupyter (IPython) Notebook Setup for OpenStudio\n",
    "\n",
    "----\n",
    "\n",
    "The following instructions provide an alternative to using Interactive Ruby (IRB) with the OpenStudio SDK Ruby bindings and assume that steps 1 - 4 of the **Optional - Intall Ruby** section of the [OpenStudio installation instructions](http://nrel.github.io/OpenStudio-user-documentation/getting_started/getting_started/) have been completed.\n",
    "\n",
    "A [Jupyter](http://jupyter.org/) notebook is a browser-based interactive programming environment based on [IPython](https://ipython.org/) with support for many languages (including Ruby). This `ipynb` file is an example of a notebook, which can be used for documentation, code, data visualization, and more. In the future the [IRuby](https://github.com/SciRuby/iruby) project may provide a pure Ruby alternative. \n",
    "\n",
    "----\n",
    "\n",
    "## Install Jupyter\n",
    "\n",
    "Install [Anaconda](https://www.continuum.io/downloads) (larger). \n",
    "\n",
    "    OR\n",
    "\n",
    "Install [Miniconda](http://conda.pydata.org/miniconda.html) (smaller). From a Command Prompt (Windows) or Terminal (Mac and Linux) run the following command to install the Juypter package. \n",
    "\n",
    "    conda install jupyter\n",
    "\n",
    "## Start a Notebook\n",
    "\n",
    "Follow the [Running the Notebook](http://jupyter.readthedocs.io/en/latest/running.html) instructions to open the Jupyter dashboard in a browser. \n",
    "\n",
    "From the dashboard, select `New > Notebooks > Python` to open a new notebook in another browser tab.\n",
    "\n",
    "## Test Ruby Bindings\n",
    "\n",
    "By default, Jupyter interprets cell content as Python code. However, using [cell magics](http://ipython.readthedocs.io/en/stable/interactive/magics.html?highlight=magic#cell-magics) code can instead be interpreted as [Ruby code](http://ipython.readthedocs.io/en/stable/interactive/magics.html?highlight=magic#cellmagic-ruby). \n",
    "\n",
    "Test the Ruby installation and OpenStudio bindings by entering the following code in the first cell.\n",
    "\n",
    "    %%script ruby\n",
    "    require 'openstudio'   \n",
    "\n",
    "`SHIFT + ENTER` will run the code in the cell and if successful, the following output will be displayed. \n",
    "\n",
    "    DL is deprecated, please use Fiddle\n",
    "\n",
    "## Use the OpenStudio Ruby Bindings\n",
    "\n",
    "The next cell provides an example of using Jupyter to interact with an OpenStudio model."
   ]
  },
  {
   "cell_type": "code",
   "execution_count": 8,
   "metadata": {
    "collapsed": false
   },
   "outputs": [
    {
     "name": "stdout",
     "output_type": "stream",
     "text": [
      "Thermal Zone 1\r\n"
     ]
    },
    {
     "name": "stderr",
     "output_type": "stream",
     "text": [
      "DL is deprecated, please use Fiddle\r\n"
     ]
    }
   ],
   "source": [
    "%%script ruby\n",
    "\n",
    "# OpenStudio Ruby bindings\n",
    "require 'openstudio'\n",
    "\n",
    "# settings\n",
    "save = true\n",
    "overwrite = false\n",
    "\n",
    "# directory with an osm file\n",
    "dir = 'C:\\Users\\Matt\\Documents\\WORKING'\n",
    "\n",
    "# stupid windows stuff\n",
    "dir = dir.gsub(/\\\\+/, '/')\n",
    "\n",
    "# files\n",
    "osm = 'untitled'\n",
    "osm_new = 'test'\n",
    "osm_ext = '.osm'\n",
    "\n",
    "# paths\n",
    "osm_path = File.join(dir, osm + osm_ext)\n",
    "osm_path_new = File.join(dir, osm_new + osm_ext)\n",
    "\n",
    "# get model\n",
    "model = OpenStudio::Model::Model.load(osm_path).get\n",
    "\n",
    "# get model objects\n",
    "objs = model.getThermalZones\n",
    "\n",
    "# do stuff\n",
    "objs.each do |obj|\n",
    "    \n",
    "    puts obj.name\n",
    "    \n",
    "end \n",
    "\n",
    "# save model\n",
    "if save == true\n",
    "    if overwrite == true\n",
    "        model.save(osm_path, true)\n",
    "    else\n",
    "        model.save(osm_path_new, true)\n",
    "    end  \n",
    "end"
   ]
  },
  {
   "cell_type": "code",
   "execution_count": 1,
   "metadata": {
    "collapsed": false
   },
   "outputs": [
    {
     "name": "stdout",
     "output_type": "stream",
     "text": [
      "SPACE5-1 Thermal Zone\r\n",
      "SPACE1-1 Thermal Zone Pool\r\n",
      "SPACE3-1 Thermal Zone\r\n",
      "SPACE4-1 Thermal Zone\r\n",
      "SPACE2-1 Thermal Zone\r\n",
      "PLENUM-1 Thermal Zone\r\n"
     ]
    },
    {
     "name": "stderr",
     "output_type": "stream",
     "text": [
      "DL is deprecated, please use Fiddle\r\n"
     ]
    }
   ],
   "source": [
    "%%script ruby\n",
    "\n",
    "# OpenStudio Ruby bindings\n",
    "require 'openstudio'\n",
    "\n",
    "# settings\n",
    "save = false\n",
    "overwrite = false\n",
    "\n",
    "# directory with an idf file\n",
    "idf_dir = 'C:\\Users\\Matt\\Documents\\WORKING\\OpenStudio_Model_Folder\\run\\1-ModelToIdf-0'\n",
    "\n",
    "# stupid windows stuff\n",
    "idf_dir = idf_dir.gsub(/\\\\+/, '/')\n",
    "\n",
    "# files\n",
    "idf = 'in.idf'\n",
    "\n",
    "# paths\n",
    "idf_path = File.join(idf_dir, idf)\n",
    "\n",
    "# get workspace\n",
    "workspace = OpenStudio::Workspace.load(idf_path).get\n",
    "\n",
    "# get workspace objects\n",
    "zones = workspace.getObjectsByType(\"Zone\".to_IddObjectType)\n",
    "\n",
    "# do stuff\n",
    "zones.each do |z|\n",
    "\n",
    "    puts z.name\n",
    "    \n",
    "end\n",
    "\n",
    "# save model\n",
    "if save == true\n",
    "    if overwrite == true\n",
    "        workspace.save(osm_path, true)\n",
    "    else\n",
    "        workspace.save(osm_path_new, true)\n",
    "    end  \n",
    "end"
   ]
  },
  {
   "cell_type": "code",
   "execution_count": null,
   "metadata": {
    "collapsed": true
   },
   "outputs": [],
   "source": []
  }
 ],
 "metadata": {
  "kernelspec": {
   "display_name": "Python 2",
   "language": "python",
   "name": "python2"
  },
  "language_info": {
   "codemirror_mode": {
    "name": "ipython",
    "version": 2
   },
   "file_extension": ".py",
   "mimetype": "text/x-python",
   "name": "python",
   "nbconvert_exporter": "python",
   "pygments_lexer": "ipython2",
   "version": "2.7.11"
  }
 },
 "nbformat": 4,
 "nbformat_minor": 0
}
